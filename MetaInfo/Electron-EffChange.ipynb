{
 "cells": [
  {
   "cell_type": "code",
   "execution_count": 1,
   "metadata": {},
   "outputs": [
    {
     "name": "stdout",
     "output_type": "stream",
     "text": [
      "Welcome to JupyROOT 6.26/00\n"
     ]
    }
   ],
   "source": [
    "from ROOT import TFile\n",
    "from ROOT import TCanvas, TPad, TLegend, TLatex\n",
    "from rtColors import colorWheel"
   ]
  },
  {
   "cell_type": "code",
   "execution_count": 48,
   "metadata": {},
   "outputs": [],
   "source": [
    "ERA = \"2016preVFP\"\n",
    "trig_cuts = [\"shower_shape\", \"seed\", \"HoverE\", \"Iso\"]\n",
    "ID_cuts = [\"dZ\", \"SIP\", \"missingHits\", \"ConversionVeto\", \"miniIso\"]\n",
    "eta_bins = [-2.5, -2., -1.566, -1.444, -0.8, 0., 0.8, 1.444, 1.566, 2., 2.5]\n",
    "pt_bins = [10, 20, 35, 50, 100, 200, 500]"
   ]
  },
  {
   "cell_type": "code",
   "execution_count": 55,
   "metadata": {},
   "outputs": [],
   "source": [
    "class Canvas():\n",
    "    def __init__(self, configs=None):\n",
    "        self.cvs = TCanvas(\"c\", \"\", 720, 800)\n",
    "        self.cvs.SetLogx()\n",
    "        \n",
    "        self.legend = TLegend(0.45, 0.2, 0.9, 0.43)\n",
    "        self.legend.SetFillStyle(0)\n",
    "        self.legend.SetBorderSize(0)\n",
    "        self.legend.SetNColumns(2)\n",
    "        \n",
    "        self.info = TLatex()\n",
    "        self.info.SetTextSize(0.03)\n",
    "        self.info.SetTextFont(42)\n",
    "        self.extra_info = TLatex()\n",
    "        self.extra_info.SetTextSize(0.02)\n",
    "        self.extra_info.SetTextFont(52)\n",
    "        self.logo = TLatex()\n",
    "        self.logo.SetTextSize(0.04)\n",
    "        self.logo.SetTextFont(61)\n",
    "        self.extra_logo = TLatex()\n",
    "        self.extra_logo.SetTextSize(0.035)\n",
    "        self.extra_logo.SetTextFont(52)\n",
    "        \n",
    "        self.configs = configs\n",
    "    \n",
    "    # get 2D efficiency histograms\n",
    "    def get_hists(self, h_data, h_mc):\n",
    "        # make projections w.r.t. eta bins \n",
    "        self.projs_data = {}\n",
    "        self.projs_mc = {}\n",
    "        for bin in range(1, len(eta_bins)-1):\n",
    "            proj_name = f\"{eta_bins[bin]}to{eta_bins[bin+1]}\"\n",
    "            self.projs_data[proj_name] = h_data.ProjectionY(f\"proj_data_{proj_name}\", bin, bin)\n",
    "            self.projs_mc[proj_name] = h_mc.ProjectionY(f\"proj_mc_{proj_name}\", bin, bin)\n",
    "        self.__decorate()\n",
    "        \n",
    "    def __decorate(self):\n",
    "        ylow = 0.2\n",
    "        yhigh = 1.1\n",
    "        \n",
    "        for i, (name, hist) in enumerate(self.projs_data.items()):\n",
    "            hist.SetStats(0)\n",
    "            hist.SetTitle(\"\")\n",
    "            hist.GetXaxis().SetTitle(\"p_{T} [GeV]\")\n",
    "            hist.GetXaxis().SetTitleSize(0.03)\n",
    "            hist.GetXaxis().SetTitleOffset(0.9)\n",
    "            hist.GetXaxis().SetLabelSize(0.03)\n",
    "            hist.GetYaxis().SetTitle(\"efficiency\")\n",
    "            hist.GetYaxis().SetTitleOffset(1.25)\n",
    "            hist.GetYaxis().SetRangeUser(ylow, yhigh)\n",
    "            hist.SetLineColor(3)\n",
    "            hist.SetMarkerColor(3)\n",
    "            hist.SetMarkerStyle(21)\n",
    "            hist.SetMarkerSize(1)\n",
    "            \n",
    "        for i, (name, hist) in enumerate(self.projs_mc.items()):\n",
    "            hist.SetStats(0)\n",
    "            hist.SetTitle(\"\")\n",
    "            hist.GetXaxis().SetTitleSize(0)\n",
    "            hist.GetXaxis().SetLabelSize(0)\n",
    "            hist.GetYaxis().SetTitle(\"efficiency\")\n",
    "            hist.GetYaxis().SetTitleOffset(1.25)\n",
    "            hist.GetYaxis().SetRangeUser(ylow, yhigh)\n",
    "            hist.SetLineColor(5)\n",
    "            hist.SetMarkerColor(5)\n",
    "            hist.SetMarkerStyle(21)\n",
    "            hist.SetMarkerSize(1)\n",
    "            \n",
    "    def combine(self):\n",
    "        self.cvs.cd()\n",
    "        for name, hist in self.projs_data.items():\n",
    "            hist.Draw(\"p&same\")\n",
    "            self.legend.AddEntry(hist, f\"data-{name}\", \"lep\")\n",
    "        for name, hist in self.projs_mc.items():\n",
    "            hist.Draw(\"p&same\")\n",
    "            self.legend.AddEntry(hist, f\"mc-{name}\", \"lep\")\n",
    "        self.legend.Draw(\"same\")\n",
    "        self.logo.DrawLatexNDC(0.15, 0.83, \"CMS\")\n",
    "        self.extra_logo.DrawLatexNDC(0.15, 0.78, \"Work in progress\")\n",
    "        \n",
    "        if \"info\" in self.configs.keys():\n",
    "            self.info.DrawLatexNDC(0.74, 0.91, self.configs[\"info\"])\n",
    "        if \"extra_info\" in self.configs.keys():\n",
    "            self.extra_info.DrawLatexNDC(0.5, 0.8, self.configs[\"extra_info\"])\n",
    "        \n",
    "    def draw(self):\n",
    "        self.cvs.Draw()\n",
    "        \n",
    "    def savefig(self, figname):\n",
    "        self.cvs.SaveAs(figname)"
   ]
  },
  {
   "cell_type": "code",
   "execution_count": 56,
   "metadata": {},
   "outputs": [
    {
     "name": "stderr",
     "output_type": "stream",
     "text": [
      "Warning in <TCanvas::Constructor>: Deleting canvas with same name: c\n",
      "Warning in <TCanvas::Constructor>: Deleting canvas with same name: c\n",
      "Warning in <TCanvas::Constructor>: Deleting canvas with same name: c\n",
      "Warning in <TCanvas::Constructor>: Deleting canvas with same name: c\n",
      "Warning in <TCanvas::Constructor>: Deleting canvas with same name: c\n",
      "Warning in <TCanvas::Constructor>: Deleting canvas with same name: c\n",
      "Warning in <TCanvas::Constructor>: Deleting canvas with same name: c\n",
      "Warning in <TCanvas::Constructor>: Deleting canvas with same name: c\n",
      "Warning in <TCanvas::Constructor>: Deleting canvas with same name: c\n"
     ]
    },
    {
     "data": {
      "image/png": "[encoded data removed]",
      "text/plain": [
       "<IPython.core.display.Image object>"
      ]
     },
     "metadata": {},
     "output_type": "display_data"
    }
   ],
   "source": [
    "def get_eff_hists(era, cutname):\n",
    "    f = TFile.Open(f\"HcToWAElectron-FullRangeEta/{era}_{cutname}/efficiency.root\")\n",
    "    \n",
    "    h_data = f.Get(\"data\"); h_data.SetDirectory(0)\n",
    "    h_mc = f.Get(\"sim\"); h_mc.SetDirectory(0)\n",
    "    f.Close()\n",
    "    \n",
    "    return (h_data, h_mc)\n",
    "\n",
    "lumis = {\n",
    "    \"2016preVFP\": 19.8,\n",
    "    \"2016postVFP\": 19.8,\n",
    "    \"2017\": 41.5,\n",
    "    \"2018\": 59.7\n",
    "}\n",
    "\n",
    "for i, cut in enumerate(trig_cuts):\n",
    "    extra_info = \"showershape\"\n",
    "    for j in range(1, i+1):\n",
    "        extra_info += f\"+{trig_cuts[j]}\"\n",
    "    \n",
    "    configs = {\n",
    "        \"info\": \"L^{int} = \" + f\"{lumis[ERA]} /fb\",\n",
    "        \"extra_info\": extra_info\n",
    "    }\n",
    "    \n",
    "    h_data, h_mc = get_eff_hists(ERA, cut)\n",
    "    cvs = Canvas(configs=configs)\n",
    "    cvs.get_hists(h_data, h_mc)\n",
    "    cvs.combine()\n",
    "    cvs.draw()\n",
    "    \n",
    "for i, cut in enumerate(ID_cuts):\n",
    "    extra_info = \"trig\"\n",
    "    for j in range(0, i+1):\n",
    "        extra_info += f\"+{ID_cuts[j]}\"\n",
    "    \n",
    "    configs = {\n",
    "        \"info\": \"L^{int} = \" + f\"{lumis[ERA]} /fb\",\n",
    "        \"extra_info\": extra_info\n",
    "    }\n",
    "    \n",
    "    h_data, h_mc = get_eff_hists(ERA, cut)\n",
    "    cvs = Canvas(configs=configs)\n",
    "    cvs.get_hists(h_data, h_mc)\n",
    "    cvs.combine()\n",
    "    cvs.draw()"
   ]
  },
  {
   "cell_type": "code",
   "execution_count": null,
   "metadata": {},
   "outputs": [],
   "source": []
  }
 ],
 "metadata": {
  "interpreter": {
   "hash": "428c25d7dfec75ceb14a62e7a5a998fab747e9c50674bd2d2b29f9c9ff0720ef"
  },
  "kernelspec": {
   "display_name": "Python 3.9.10 ('coin')",
   "language": "python",
   "name": "python3"
  },
  "language_info": {
   "codemirror_mode": {
    "name": "ipython",
    "version": 3
   },
   "file_extension": ".py",
   "mimetype": "text/x-python",
   "name": "python",
   "nbconvert_exporter": "python",
   "pygments_lexer": "ipython3",
   "version": "3.10.4"
  },
  "orig_nbformat": 4
 },
 "nbformat": 4,
 "nbformat_minor": 2
}
