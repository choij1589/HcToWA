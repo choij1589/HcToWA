{
 "metadata": {
  "language_info": {
   "codemirror_mode": {
    "name": "ipython",
    "version": 3
   },
   "file_extension": ".py",
   "mimetype": "text/x-python",
   "name": "python",
   "nbconvert_exporter": "python",
   "pygments_lexer": "ipython3",
   "version": "3.8.10"
  },
  "orig_nbformat": 2,
  "kernelspec": {
   "name": "python3810jvsc74a57bd04c0e7be8f7cfb5d680101c33ba99bb8932c68c51d696eaf1c983b318108321fd",
   "display_name": "Python 3.8.10 64-bit ('hep': conda)",
   "language": "python"
  },
  "metadata": {
   "interpreter": {
    "hash": "4c0e7be8f7cfb5d680101c33ba99bb8932c68c51d696eaf1c983b318108321fd"
   }
  }
 },
 "nbformat": 4,
 "nbformat_minor": 2,
 "cells": [
  {
   "cell_type": "code",
   "execution_count": 1,
   "metadata": {},
   "outputs": [
    {
     "output_type": "stream",
     "name": "stdout",
     "text": [
      "Welcome to JupyROOT 6.24/00\n"
     ]
    }
   ],
   "source": [
    "from ROOT import TFile, TCanvas\n",
    "from Scripts.DataFormat import Particle, get_leptons, get_jets\n",
    "from Scripts.HistTools import HistTool\n",
    "from ROOT import EnableImplicitMT\n",
    "EnableImplicitMT(4)"
   ]
  },
  {
   "cell_type": "code",
   "execution_count": 2,
   "metadata": {},
   "outputs": [],
   "source": [
    "f = TFile.Open(\"/Users/choij/workspace/HcToWA/Samples/Selector/2017/Skim1E2Mu__/Selector_SkimTree_SS2lOR3l_TTLL_powheg.root\")\n",
    "fr_ele = TFile.Open(\"/Users/choij/workspace/HcToWA/MetaInfo/2017/fakerate_electron.root\")\n",
    "fr_mu = TFile.Open(\"/Users/choij/workspace/HcToWA/MetaInfo/2017/fakerate_muon.root\")\n",
    "\n",
    "h_ele = fr_ele.Get(\"fakerate2D\")\n",
    "h_mu = fr_mu.Get(\"fakerate2D\")\n",
    "\n",
    "h_ele.SetDirectory(0)\n",
    "h_mu.SetDirectory(0)\n",
    "\n",
    "fr_ele.Close()\n",
    "fr_mu.Close()\n",
    "\n",
    "htool = HistTool(outfile=\"FRClosure_1E2Mu.root\")"
   ]
  },
  {
   "cell_type": "code",
   "execution_count": 3,
   "metadata": {},
   "outputs": [],
   "source": [
    "def get_tight_leptons(muons, electrons):\n",
    "    muons_tight = []\n",
    "    electrons_tight = []\n",
    "    for muon in muons:\n",
    "        if muon.IsTight():\n",
    "            muons_tight.append(muon)\n",
    "    for electron in electrons:\n",
    "        if electron.IsTight():\n",
    "            electrons_tight.append(electron)\n",
    "\n",
    "    return muons_tight, electrons_tight"
   ]
  },
  {
   "cell_type": "code",
   "execution_count": 4,
   "metadata": {},
   "outputs": [],
   "source": [
    "def get_fake_weight(muons, electrons):\n",
    "    w_fake = -1.\n",
    "    w_fake_up = -1.\n",
    "    w_fake_down = -1.\n",
    "    for muon in muons:\n",
    "        ptCorr = muon.Pt()*(1.+max(muon.MiniIso()-0.1, 0.))\n",
    "        ptCorr = min(ptCorr, 49.)\n",
    "        absEta = abs(muon.Eta())\n",
    "        this_bin = h_mu.FindBin(ptCorr, absEta)\n",
    "        fr = h_mu.GetBinContent(this_bin)\n",
    "        fr_up = fr + h_mu.GetBinError(this_bin)\n",
    "        fr_down = fr - h_mu.GetBinError(this_bin)\n",
    "\n",
    "        if muon.IsTight():\n",
    "            continue\n",
    "        else:\n",
    "            w_fake *= -fr/(1.-fr)\n",
    "            w_fake_up *= -fr_up/(1.-fr_up)\n",
    "            w_fake_down *= -fr_down/(1.-fr_down)\n",
    "    for ele in electrons:\n",
    "        ptCorr = ele.Pt()*(1.+max(ele.MiniIso()-0.1, 0.))\n",
    "        ptCorr = min(ptCorr, 49.)\n",
    "        absEta = abs(ele.Eta())\n",
    "        this_bin = h_ele.FindBin(ptCorr, absEta)\n",
    "        fr = h_ele.GetBinContent(this_bin)\n",
    "        fr_up = fr + h_ele.GetBinError(this_bin)\n",
    "        fr_down = fr - h_ele.GetBinError(this_bin)\n",
    "\n",
    "        if ele.IsTight():\n",
    "            continue\n",
    "        else:\n",
    "            w_fake *= -fr/(1.-fr)\n",
    "            w_fake_up *= -fr_up/(1.-fr_up)\n",
    "            w_fake_down *= -fr_down/(1.-fr_down)\n",
    "\n",
    "    return w_fake, w_fake_up, w_fake_down"
   ]
  },
  {
   "cell_type": "code",
   "execution_count": 5,
   "metadata": {},
   "outputs": [],
   "source": [
    "def select(evt, muons, electrons):\n",
    "    if not (evt.passDblMuTrigs or evt.passEMuTrigs):\n",
    "        return False\n",
    "    \n",
    "    pass_safecut = ((muons[0].Pt() > 20. and muons[1].Pt() > 10.) or\n",
    "                    (muons[0].Pt() > 25. and electrons[0].Pt() > 15.) or\n",
    "                    (electrons[0].Pt() > 25. and muons[0].Pt() > 10.))\n",
    "\n",
    "    if not pass_safecut:\n",
    "        return False\n",
    "\n",
    "    if not (len(muons) == 2 and len(electrons) == 1):\n",
    "        return False\n",
    "    \n",
    "    return True"
   ]
  },
  {
   "cell_type": "code",
   "execution_count": 6,
   "metadata": {},
   "outputs": [
    {
     "output_type": "stream",
     "name": "stdout",
     "text": [
      "Saving histograms in FRClosure_1E2Mu.root...\n"
     ]
    }
   ],
   "source": [
    "for evt in f.Events:\n",
    "    muons, electrons = get_leptons(evt)\n",
    "    \n",
    "    if not select(evt, muons, electrons):\n",
    "        continue\n",
    "\n",
    "    # check if pass tight IDs\n",
    "    muons_tight, electrons_tight = get_tight_leptons(muons, electrons)\n",
    "    if len(muons_tight) == 2 and len(electrons_tight) == 1:\n",
    "        n_prompt = 0\n",
    "        n_fake = 0\n",
    "        for lep in muons + electrons:\n",
    "            if lep.LepType() < 0:\n",
    "                n_fake += 1\n",
    "            elif lep.LepType() in [1, 2, 6]:\n",
    "                n_prompt += 1\n",
    "            else:\n",
    "                pass\n",
    "    \n",
    "        if (n_prompt == 2 and n_fake == 1):\n",
    "            htool.fill_muons(\"prompt/muons\", muons, 1.)\n",
    "            htool.fill_electrons(\"prompt/electrons\", electrons, 1.)\n",
    "    else:\n",
    "        w_fake, w_fake_up, w_fake_down = get_fake_weight(muons, electrons)\n",
    "        htool.fill_muons(\"fake/Central/muons\", muons, w_fake)\n",
    "        htool.fill_muons(\"fake/Up/muons\", muons, w_fake_up)\n",
    "        htool.fill_muons(\"fake/Down/muons\", muons, w_fake_down)\n",
    "        htool.fill_electrons(\"fake/Central/electrons\", electrons, w_fake)\n",
    "        htool.fill_electrons(\"fake/Up/electrons\", electrons, w_fake_up)\n",
    "        htool.fill_electrons(\"fake/Down/electrons\", electrons, w_fake_down)\n",
    "htool.save()"
   ]
  },
  {
   "cell_type": "code",
   "execution_count": 2,
   "metadata": {},
   "outputs": [
    {
     "output_type": "stream",
     "name": "stdout",
     "text": [
      "TFile**\t\tFRClosure_1E2Mu.root\t\n TFile*\t\tFRClosure_1E2Mu.root\t\n  KEY: TDirectoryFile\tfake;1\tfake/Central/muons\n  KEY: TDirectoryFile\tprompt;1\tprompt/muons\n"
     ]
    }
   ],
   "source": [
    "f = TFile(\"FRClosure_1E2Mu.root\")\n",
    "f.ls()"
   ]
  },
  {
   "cell_type": "code",
   "execution_count": 3,
   "metadata": {},
   "outputs": [
    {
     "output_type": "stream",
     "name": "stdout",
     "text": [
      "17676.0\n18337.141879561532, 4126.947854112281, 3548.0243883839357\n"
     ]
    },
    {
     "output_type": "display_data",
     "data": {
      "image/png": "[encoded data removed]",
      "text/plain": "<IPython.core.display.Image object>"
     },
     "metadata": {}
    }
   ],
   "source": [
    "cvs = TCanvas(\"cvs\", \"\", 800, 600)\n",
    "cvs.cd()\n",
    "h_prompt = f.Get(\"prompt/electrons/1/pt\")\n",
    "h_prompt.SetStats(0)\n",
    "h_prompt.GetYaxis().SetRangeUser(0, 2500)\n",
    "h_prompt.Rebin(5)\n",
    "h_prompt.GetXaxis().SetTitle(\"p_{T}(e)\")\n",
    "h_prompt.GetYaxis().SetTitle(\"Events\")\n",
    "h_fake = f.Get(\"fake/Central/electrons/1/pt\")\n",
    "h_fake.SetStats(0)\n",
    "h_fake.SetLineColor(2)\n",
    "h_fake.Rebin(5)\n",
    "h_fake_up = f.Get(\"fake/Up/electrons/1/pt\")\n",
    "h_fake_up.SetStats(0)\n",
    "h_fake_up.SetLineColor(3)\n",
    "h_fake_up.Rebin(5)\n",
    "h_fake_down = f.Get(\"fake/Down/electrons/1/pt\")\n",
    "h_fake_down.SetStats(0)\n",
    "h_fake_down.SetLineColor(4)\n",
    "h_fake_down.Rebin(5)\n",
    "\n",
    "h_prompt.Draw()\n",
    "h_fake.Draw(\"same&hist\")\n",
    "h_fake_up.Draw(\"same&hist\")\n",
    "h_fake_down.Draw(\"same&hist\")\n",
    "\n",
    "cvs.Draw()\n",
    "\n",
    "print(h_prompt.Integral())\n",
    "print(f\"{h_fake.Integral()}, {h_fake_up.Integral() - h_fake.Integral()}, {h_fake.Integral() - h_fake_down.Integral()}\")"
   ]
  },
  {
   "cell_type": "code",
   "execution_count": null,
   "metadata": {},
   "outputs": [],
   "source": []
  },
  {
   "cell_type": "code",
   "execution_count": null,
   "metadata": {},
   "outputs": [],
   "source": []
  }
 ]
}