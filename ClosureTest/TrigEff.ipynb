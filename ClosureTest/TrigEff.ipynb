{
 "metadata": {
  "language_info": {
   "codemirror_mode": {
    "name": "ipython",
    "version": 3
   },
   "file_extension": ".py",
   "mimetype": "text/x-python",
   "name": "python",
   "nbconvert_exporter": "python",
   "pygments_lexer": "ipython3",
   "version": "3.8.10"
  },
  "orig_nbformat": 2,
  "kernelspec": {
   "name": "python3810jvsc74a57bd056b67b4988ae20ae0f42b3144b96dec88c2aec9624473f726c561afa204ff032",
   "display_name": "Python 3.8.10 64-bit ('torch': conda)"
  },
  "metadata": {
   "interpreter": {
    "hash": "56b67b4988ae20ae0f42b3144b96dec88c2aec9624473f726c561afa204ff032"
   }
  }
 },
 "nbformat": 4,
 "nbformat_minor": 2,
 "cells": [
  {
   "cell_type": "code",
   "execution_count": 1,
   "metadata": {},
   "outputs": [
    {
     "output_type": "stream",
     "name": "stdout",
     "text": [
      "Welcome to JupyROOT 6.24/00\n"
     ]
    }
   ],
   "source": [
    "from ROOT import TFile\n"
   ]
  },
  {
   "cell_type": "code",
   "execution_count": 2,
   "metadata": {
    "tags": []
   },
   "outputs": [
    {
     "output_type": "stream",
     "name": "stdout",
     "text": [
      "Obs: 0.97979\nExp: 0.9842 pm 0.0006\n"
     ]
    }
   ],
   "source": [
    "f = TFile.Open(\"/Users/choij/workspace/HcToWA/Samples/ClosureTest/2017/RunTrigger__/ClosureTest_TTLL_powheg.root\")\n",
    "weight_all = 0.\n",
    "weight_passtrig = 0.\n",
    "weight_trigeff = 0.\n",
    "weight_trigeff_up = 0.\n",
    "weight_trigeff_down = 0.\n",
    "for evt in f.Events:\n",
    "    # applied leptons pt\n",
    "    flag_dimu = evt.muons_pt[0] > 20. and evt.muons_pt[1] > 10.\n",
    "    flag_emu1 = evt.muons_pt[0] > 10. and evt.electrons_pt[0] > 25.\n",
    "    flag_emu2 = evt.muons_pt[0] > 25. and evt.electrons_pt[0] > 15.\n",
    "    if not (flag_dimu or flag_emu1 or flag_emu2):\n",
    "        continue\n",
    "    \n",
    "    # set trig eff.\n",
    "    eff_dblmu = evt.trigDblMuEff\n",
    "    eff_dblmu_up = evt.trigDblMuEffUp\n",
    "    eff_dblmu_down = evt.trigDblMuEffDown\n",
    "    eff_emu = evt.trigEMuEff\n",
    "    eff_emu_up = evt.trigEMuEffUp\n",
    "    eff_emu_down = evt.trigEMuEffDown\n",
    "\n",
    "    if not flag_dimu:\n",
    "        eff_dblmu = 0.\n",
    "        eff_dblmu_up = 0.\n",
    "        eff_dblmu_down = 0. \n",
    "    if not (flag_emu1 or flag_emu2):\n",
    "        eff_emu = 0.\n",
    "        eff_emu_up = 0.\n",
    "        eff_emu_down = 0.\n",
    "    trigeff = 1. - (1. - eff_dblmu)*(1.- eff_emu)\n",
    "    trigeff_up = 1. - (1. - eff_dblmu_up)*(1. - eff_emu_up)\n",
    "    trigeff_down = 1. - (1. - eff_dblmu_down)*(1. - eff_emu_down)\n",
    "\n",
    "    weight_all += evt.genWeight\n",
    "    weight_trigeff += evt.genWeight * trigeff\n",
    "    weight_trigeff_up += evt.genWeight * trigeff_up\n",
    "    weight_trigeff_down += evt.genWeight * trigeff_down \n",
    "    \n",
    "    if evt.passDblMuTrigs or evt.passEMuTrigs:\n",
    "        weight_passtrig += evt.genWeight\n",
    "\n",
    "obs = weight_passtrig/weight_all\n",
    "exp = weight_trigeff/weight_all\n",
    "exp_up = weight_trigeff_up/weight_all\n",
    "exp_down = weight_trigeff_down/weight_all\n",
    "print(\"Obs: {}\".format(round(obs, 5)))\n",
    "print(\"Exp: {} pm {}\".format(round(weight_trigeff/weight_all, 4), round(max(exp_up-exp, exp-exp_down), 4)))"
   ]
  },
  {
   "cell_type": "code",
   "execution_count": null,
   "metadata": {},
   "outputs": [],
   "source": []
  }
 ]
}