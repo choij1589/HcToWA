{
 "metadata": {
  "language_info": {
   "codemirror_mode": {
    "name": "ipython",
    "version": 3
   },
   "file_extension": ".py",
   "mimetype": "text/x-python",
   "name": "python",
   "nbconvert_exporter": "python",
   "pygments_lexer": "ipython3",
   "version": "3.8.10"
  },
  "orig_nbformat": 2,
  "kernelspec": {
   "name": "python3810jvsc74a57bd04c0e7be8f7cfb5d680101c33ba99bb8932c68c51d696eaf1c983b318108321fd",
   "display_name": "Python 3.8.10 64-bit ('hep': conda)"
  },
  "metadata": {
   "interpreter": {
    "hash": "4c0e7be8f7cfb5d680101c33ba99bb8932c68c51d696eaf1c983b318108321fd"
   }
  }
 },
 "nbformat": 4,
 "nbformat_minor": 2,
 "cells": [
  {
   "cell_type": "code",
   "execution_count": 1,
   "metadata": {},
   "outputs": [
    {
     "output_type": "stream",
     "name": "stdout",
     "text": [
      "Welcome to JupyROOT 6.24/00\n"
     ]
    }
   ],
   "source": [
    "from itertools import product\n",
    "import numpy as np\n",
    "from ROOT import TFile, TCanvas, TH1D, TH2D, TLegend, TLatex"
   ]
  },
  {
   "cell_type": "code",
   "execution_count": 2,
   "metadata": {},
   "outputs": [],
   "source": [
    "def get_hist(object, histkey):\n",
    "    syst = histkey.split(\"_\")[1]\n",
    "    f = TFile.Open(f\"Outputs/electron/fakerate_{syst}.root\")\n",
    "    h = f.Get(histkey)\n",
    "    h.SetDirectory(0)\n",
    "    return h"
   ]
  },
  {
   "cell_type": "code",
   "execution_count": 3,
   "metadata": {},
   "outputs": [],
   "source": [
    "# prepare canvas and legend and logo\n",
    "cvs = TCanvas(\"cvs\", \"cvs\", 800, 700)\n",
    "legend = TLegend(0.65, 0.65, 0.85, 0.85)\n",
    "legend.SetFillStyle(0)\n",
    "legend.SetBorderSize(0)\n",
    "info = TLatex()\n",
    "info.SetTextSize(0.035)\n",
    "info.SetTextFont(42)\n",
    "logo = TLatex()\n",
    "logo.SetTextSize(0.04)\n",
    "logo.SetTextFont(61)\n",
    "extra_logo = TLatex()\n",
    "extra_logo.SetTextSize(0.035)\n",
    "extra_logo.SetTextFont(52)"
   ]
  },
  {
   "cell_type": "code",
   "execution_count": 4,
   "metadata": {},
   "outputs": [
    {
     "output_type": "stream",
     "name": "stdout",
     "text": [
      "==== eta0to0p8 ====\n1: 0.21\n2: 0.54\n3: 0.22\n4: 0.23\n5: 0.32\n6: 2.06\n7: 2.94\n8: 0.99\n9: 1.91\n10: 2.58\n11: -6.48\n12: 1.45\n==== eta0p8to1p479 ====\n1: 0.22\n2: 0.71\n3: 0.25\n4: 0.5\n5: 0.31\n6: 0.75\n7: 1.4\n8: 2.58\n9: 3.42\n10: 1.5\n11: 1.22\n12: 1.05\n==== eta1p479to2p5 ====\n1: 0.18\n2: 0.5\n3: 0.72\n4: 0.32\n5: 0.15\n6: 0.19\n7: 0.14\n8: 1.23\n9: 0.3\n10: 1.29\n11: 1.37\n12: 1.09\n"
     ]
    }
   ],
   "source": [
    "systs = [\"Central\", \"FlavorDep\", \"JetPtCutUp\", \"JetPtCutDown\", \"JetEnUp\", \"JetEnDown\", \"JetResUp\", \"JetResDown\", \"ElectronEnUp\", \"ElectronEnDown\", \"ElectronResUp\", \"ElectronResDown\", \"MuonEnUp\", \"MuonEnDown\"]\n",
    "\n",
    "systs = [\"Central\", \"FlavorDep\"]\n",
    "\n",
    "\n",
    "paths = ['passEle8Path', 'passEle12Path', 'passEle23Path']\n",
    "etabins = ['eta0to0p8', 'eta0p8to1p479', 'eta1p479to2p5']\n",
    "ptCorrBin = [10, 15, 20, 25, 35, 50, 70]\n",
    "\n",
    "fakerates = dict()\n",
    "for etabin in etabins:\n",
    "    h_fakerate = None\n",
    "    for path in paths:\n",
    "        histkey = f\"{path}_Central_{etabin}\"\n",
    "        h_central = get_hist(\"electron\", histkey)\n",
    "        h_total = h_central.Clone(f\"{path}_total_{etabin}\")\n",
    "\n",
    "        for bin in range(1, h_central.GetNbinsX()+1):\n",
    "            stat_err = h_central.GetBinError(bin)\n",
    "            total_err = np.power(stat_err, 2)\n",
    "\n",
    "            for syst in systs:\n",
    "                histkey = f\"{path}_{syst}_{etabin}\"\n",
    "                h_syst = get_hist(\"electron\", histkey)\n",
    "                syst_err = h_syst.GetBinContent(bin) - h_central.GetBinContent(bin)\n",
    "                total_err += np.power(syst_err, 2)\n",
    "            total_err = np.sqrt(total_err)\n",
    "\n",
    "            h_total.SetBinError(bin, total_err)\n",
    "        \n",
    "        if h_fakerate == None:\n",
    "            h_fakerate = h_total.Clone(f\"fakerate_{etabin}\")\n",
    "        else:\n",
    "            h_fakerate.Add(h_total)\n",
    "    \n",
    "    print(f\"==== {etabin} ====\")\n",
    "    for bin in range(1, h_fakerate.GetNbinsX()+1):\n",
    "        print(f\"{bin}: {round(h_fakerate.GetBinError(bin)/h_fakerate.GetBinContent(bin), 2)}\")\n",
    "    \n",
    "    fakerates[etabin] = h_fakerate"
   ]
  },
  {
   "cell_type": "code",
   "execution_count": 5,
   "metadata": {},
   "outputs": [
    {
     "output_type": "stream",
     "name": "stderr",
     "text": [
      "Warning in <TCanvas::Constructor>: Deleting canvas with same name: cvs\n"
     ]
    },
    {
     "output_type": "display_data",
     "data": {
      "image/png": "[encoded data removed]",
      "text/plain": "<IPython.core.display.Image object>"
     },
     "metadata": {}
    }
   ],
   "source": [
    "# prepare canvas and legend and logo\n",
    "cvs = TCanvas(\"cvs\", \"cvs\", 800, 700)\n",
    "legend = TLegend(0.65, 0.65, 0.85, 0.85)\n",
    "legend.SetFillStyle(0)\n",
    "legend.SetBorderSize(0)\n",
    "info = TLatex()\n",
    "info.SetTextSize(0.035)\n",
    "info.SetTextFont(42)\n",
    "logo = TLatex()\n",
    "logo.SetTextSize(0.04)\n",
    "logo.SetTextFont(61)\n",
    "extra_logo = TLatex()\n",
    "extra_logo.SetTextSize(0.035)\n",
    "extra_logo.SetTextFont(52)\n",
    "\n",
    "cvs.cd()\n",
    "for hist in fakerates.values():\n",
    "    hist.SetStats(0)\n",
    "    hist.GetYaxis().SetRangeUser(0., 1.)\n",
    "    hist.Draw(\"same\")\n",
    "cvs.Draw()"
   ]
  },
  {
   "cell_type": "code",
   "execution_count": null,
   "metadata": {},
   "outputs": [],
   "source": []
  }
 ]
}