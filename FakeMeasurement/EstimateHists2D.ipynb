{
 "metadata": {
  "language_info": {
   "codemirror_mode": {
    "name": "ipython",
    "version": 3
   },
   "file_extension": ".py",
   "mimetype": "text/x-python",
   "name": "python",
   "nbconvert_exporter": "python",
   "pygments_lexer": "ipython3",
   "version": "3.8.10"
  },
  "orig_nbformat": 2,
  "kernelspec": {
   "name": "python3810jvsc74a57bd04c0e7be8f7cfb5d680101c33ba99bb8932c68c51d696eaf1c983b318108321fd",
   "display_name": "Python 3.8.10 64-bit ('hep': conda)",
   "language": "python"
  },
  "metadata": {
   "interpreter": {
    "hash": "4c0e7be8f7cfb5d680101c33ba99bb8932c68c51d696eaf1c983b318108321fd"
   }
  }
 },
 "nbformat": 4,
 "nbformat_minor": 2,
 "cells": [
  {
   "cell_type": "code",
   "execution_count": 1,
   "metadata": {},
   "outputs": [
    {
     "output_type": "stream",
     "name": "stdout",
     "text": [
      "Welcome to JupyROOT 6.24/00\n"
     ]
    }
   ],
   "source": [
    "from ROOT import TFile, TCanvas, TPad, TH1D, TH2D, TLegend, TLatex"
   ]
  },
  {
   "cell_type": "code",
   "execution_count": 9,
   "metadata": {},
   "outputs": [],
   "source": [
    "f = TFile(\"../MetaInfo/2017/fakerate_electron.root\")\n",
    "#f = TFile(\"fakerate_electron_MeasElectron__TightWP80_LooseWPLoose__.root\")\n",
    "h = f.Get(\"fakerate2D\")\n",
    "h.GetXaxis().SetRangeUser(10., 70.)\n",
    "h.SetDirectory(0)\n",
    "f.Close()"
   ]
  },
  {
   "cell_type": "code",
   "execution_count": 10,
   "metadata": {},
   "outputs": [
    {
     "output_type": "stream",
     "name": "stderr",
     "text": [
      "Warning in <TCanvas::Constructor>: Deleting canvas with same name: cvs\n"
     ]
    }
   ],
   "source": [
    "# prepare canvas and legend and logo\n",
    "cvs = TCanvas(\"cvs\", \"cvs\", 720, 800)\n",
    "pad_up = TPad(\"pad_up\", \"\", 0, 0.25, 1, 1)\n",
    "pad_up.SetBottomMargin(0.02)\n",
    "pad_down = TPad(\"pad_down\", \"\", 0, 0, 1, 0.25)\n",
    "pad_down.SetTopMargin(0.08)\n",
    "pad_down.SetBottomMargin(0.3)\n",
    "pad_down.SetGrid()\n",
    "legend = TLegend(0.65, 0.50, 0.9, 0.87)\n",
    "legend.SetFillStyle(0)\n",
    "legend.SetBorderSize(0)\n",
    "\n",
    "info = TLatex()\n",
    "info.SetTextSize(0.035)\n",
    "info.SetTextFont(42)\n",
    "logo = TLatex()\n",
    "logo.SetTextSize(0.04)\n",
    "logo.SetTextFont(61)\n",
    "extra_logo = TLatex()\n",
    "extra_logo.SetTextSize(0.035)\n",
    "extra_logo.SetTextFont(52)\n"
   ]
  },
  {
   "cell_type": "code",
   "execution_count": 11,
   "metadata": {},
   "outputs": [],
   "source": [
    "projections = dict()\n",
    "projections[\"eta1\"] = h.ProjectionX(\"eta0to0p9\", 1, 1)\n",
    "projections[\"eta1\"].SetLineColor(2)\n",
    "projections[\"eta2\"] = h.ProjectionX(\"eta0p9to1p6\", 2, 2)\n",
    "projections[\"eta2\"].SetLineColor(3)\n",
    "projections[\"eta3\"] = h.ProjectionX(\"eta1p6to2p4\", 3, 3)\n",
    "projections[\"eta3\"].SetLineColor(4)\n",
    "\n",
    "legend.AddEntry(projections[\"eta1\"], \"0 < |#eta| < 0.8\", \"lep\")\n",
    "legend.AddEntry(projections[\"eta2\"], \"0.8 < |#eta| < 1.479\", \"lep\")\n",
    "legend.AddEntry(projections[\"eta3\"], \"1.479 < |#eta| < 2.5\", \"lep\")\n",
    "\n",
    "ratios = dict()\n",
    "ratios['eta1'] = projections['eta1'].Clone(\"ratio1\")\n",
    "ratios['eta2'] = projections['eta2'].Clone(\"ratio2\")\n",
    "ratios['eta3'] = projections['eta3'].Clone(\"ratio3\")\n",
    "\n",
    "for bin in range(1, ratios['eta1'].GetNbinsX()+1):\n",
    "    content = ratios['eta1'].GetBinError(bin)/ratios['eta1'].GetBinContent(bin)\n",
    "    ratios['eta1'].SetBinContent(bin, content)\n",
    "    ratios['eta1'].SetBinError(bin, 0)\n",
    "    ratios['eta1'].SetMarkerColor(2)\n",
    "for bin in range(1, ratios['eta2'].GetNbinsX()+1):\n",
    "    content = ratios['eta2'].GetBinError(bin)/ratios['eta2'].GetBinContent(bin)\n",
    "    ratios['eta2'].SetBinContent(bin, content)\n",
    "    ratios['eta2'].SetBinError(bin, 0)\n",
    "    ratios['eta3'].SetMarkerColor(3)\n",
    "for bin in range(1, ratios['eta3'].GetNbinsX()+1):\n",
    "    content = ratios['eta3'].GetBinError(bin)/ratios['eta3'].GetBinContent(bin)\n",
    "    ratios['eta3'].SetBinContent(bin, content)\n",
    "    ratios['eta3'].SetBinError(bin, 0)\n",
    "    ratios['eta3'].SetMarkerColor(4)\n",
    "\n",
    "for hist in projections.values():\n",
    "    hist.SetTitle(\"\")\n",
    "    hist.SetStats(0)\n",
    "    hist.SetLineWidth(2)\n",
    "    hist.GetYaxis().SetRangeUser(0., 1.)\n",
    "    hist.GetXaxis().SetLabelSize(0)\n",
    "    hist.GetXaxis().SetTitle(\"p_{T}^{corr}\")\n",
    "    hist.GetYaxis().SetTitle(\"fake rate (e)\")\n",
    "\n",
    "for hist in ratios.values():\n",
    "    hist.SetStats(0)\n",
    "    hist.SetTitle(\"\")\n",
    "    hist.GetXaxis().SetTitle(\"p_{T}^{corr}\")\n",
    "    hist.GetXaxis().SetTitleSize(0.1)\n",
    "    hist.GetXaxis().SetTitleOffset(0.8)\n",
    "    hist.GetXaxis().SetLabelSize(0.08)\n",
    "    hist.GetYaxis().SetRangeUser(0., 0.5)\n",
    "    hist.GetYaxis().SetTitle(\"#Delta fr/fr\")\n",
    "    hist.GetYaxis().CenterTitle()\n",
    "    hist.GetYaxis().SetTitleSize(0.1)\n",
    "    hist.GetYaxis().SetTitleOffset(0.4)\n",
    "    hist.GetYaxis().SetLabelSize(0.08)\n",
    "    hist.SetMarkerStyle(8)\n",
    "    hist.SetMarkerSize(0.7)\n"
   ]
  },
  {
   "cell_type": "code",
   "execution_count": 12,
   "metadata": {},
   "outputs": [
    {
     "output_type": "display_data",
     "data": {
      "image/png": "[encoded data removed]",
      "text/plain": "<IPython.core.display.Image object>"
     },
     "metadata": {}
    }
   ],
   "source": [
    "pad_up.cd()\n",
    "projections[\"eta1\"].Draw()\n",
    "projections[\"eta2\"].Draw(\"same\")\n",
    "projections[\"eta3\"].Draw(\"same\")\n",
    "legend.Draw(\"same\")\n",
    "info.DrawLatexNDC(0.80, 0.91, \"(13TeV)\")\n",
    "logo.DrawLatexNDC(0.15, 0.83, \"CMS\")\n",
    "extra_logo.DrawLatexNDC(0.15, 0.78, \"Work in progress\")\n",
    "pad_down.cd()\n",
    "#ratios[\"eta1\"].Draw(\"L\")\n",
    "ratios[\"eta1\"].Draw(\"P\")\n",
    "ratios[\"eta2\"].Draw(\"same&P\")\n",
    "ratios[\"eta3\"].Draw(\"same&P\")\n",
    "\n",
    "cvs.cd()\n",
    "pad_up.Draw()\n",
    "pad_down.Draw()\n",
    "cvs.Draw()\n"
   ]
  },
  {
   "cell_type": "code",
   "execution_count": null,
   "metadata": {},
   "outputs": [],
   "source": []
  }
 ]
}