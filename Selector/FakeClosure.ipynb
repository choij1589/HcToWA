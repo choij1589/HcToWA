{
 "metadata": {
  "language_info": {
   "codemirror_mode": {
    "name": "ipython",
    "version": 3
   },
   "file_extension": ".py",
   "mimetype": "text/x-python",
   "name": "python",
   "nbconvert_exporter": "python",
   "pygments_lexer": "ipython3",
   "version": "3.8.8-final"
  },
  "orig_nbformat": 2,
  "kernelspec": {
   "name": "python388jvsc74a57bd04bdc6f543d21430f19fdc68f48a348338922fbb620c2c2e274fc8ce374f8d71d",
   "display_name": "Python 3.8.8 64-bit ('torch': conda)"
  }
 },
 "nbformat": 4,
 "nbformat_minor": 2,
 "cells": [
  {
   "cell_type": "code",
   "execution_count": 1,
   "metadata": {},
   "outputs": [
    {
     "output_type": "stream",
     "name": "stdout",
     "text": [
      "Welcome to JupyROOT 6.22/08\n"
     ]
    }
   ],
   "source": [
    "from ROOT import TFile, TTree, TCanvas, TH1D, TH2D\n",
    "from Scripts.DataFormat import Particle, Lepton, Jet, get_leptons, get_jets\n",
    "from ROOT import EnableImplicitMT\n",
    "EnableImplicitMT(20)"
   ]
  },
  {
   "cell_type": "code",
   "execution_count": 2,
   "metadata": {},
   "outputs": [],
   "source": [
    "# Get Fake Rate\n",
    "f_muon = TFile.Open(\"/root/workspace/HcToWA/MetaInfo/2017/fakerate_muon.root\")\n",
    "f_electron = TFile.Open(\"/root/workspace/HcToWA/MetaInfo/2017/fakerate_electron.root\")\n",
    "h_muon = f_muon.Get(\"h_fakerate\")\n",
    "h_electron = f_electron.Get(\"h_fakerate\")\n"
   ]
  },
  {
   "cell_type": "code",
   "execution_count": 3,
   "metadata": {},
   "outputs": [],
   "source": [
    "h_obs = TH1D(\"obs\", \"\", 200, 0., 200.)\n",
    "h_exp = TH1D(\"exp\", \"\", 200, 0., 200.)\n",
    "h_exp_up = TH1D(\"exp_up\", \"\", 200, 0., 200.)\n",
    "h_exp_down = TH1D(\"exp_down\", \"\", 200, 0., 200.)"
   ]
  },
  {
   "cell_type": "code",
   "execution_count": 4,
   "metadata": {},
   "outputs": [],
   "source": [
    "rtfile = TFile.Open(\"/root/workspace/HcToWA/Samples/Selector/2017/Skim1E2Mu__/Selector_SkimTree_SS2lOR3l_TTLL_powheg.root\")\n",
    "Observed = 0. \n",
    "Expected = 0.\n",
    "Expected_up = 0.\n",
    "Expected_down = 0.\n",
    "for evt in rtfile.Events:\n",
    "    muons, electrons = get_leptons(evt)\n",
    "    jets, bjets = get_jets(evt)\n",
    "    METv = Particle(evt.METv_Pt, evt.METv_eta, evt.METv_phi, 0.)\n",
    "\n",
    "    # safe pt cut\n",
    "    passDblMuCut = muons[0].Pt() > 20. and muons[0].Pt() > 10.\n",
    "    passEMuCut = muons[0].Pt() > 25. or electrons[0].Pt() > 25.\n",
    "    if not (passDblMuCut or passEMuCut):\n",
    "        continue\n",
    "    \n",
    "    # get fake weight\n",
    "    w_fake = -1.\n",
    "    w_fake_up = -1.\n",
    "    w_fake_down = -1. \n",
    "    n_tightmu = 0\n",
    "    n_tightele = 0\n",
    "    for muon in muons:\n",
    "        # ptcorr and abseta\n",
    "        ptCorr = muon.Pt()*(1.+max(muon.MiniIso()-0.1, 0.))\n",
    "        ptCorr = min(ptCorr, 69.)\n",
    "        absEta = abs(muon.Eta())\n",
    "        fr = h_muon.GetBinContent(h_muon.FindBin(ptCorr, absEta))\n",
    "        fr_up = fr + h_muon.GetBinError(h_muon.FindBin(ptCorr, absEta))\n",
    "        #fr_up = fr*1.3\n",
    "        fr_down = fr - h_muon.GetBinError(h_muon.FindBin(ptCorr, absEta))\n",
    "        if muon.isTight:\n",
    "            n_tightmu += 1\n",
    "        else:\n",
    "            w_fake *= -fr/(1-fr)\n",
    "            w_fake_up *= -fr_up/(1-fr_up)\n",
    "            w_fake_down *= -fr_down/(1-fr_down)\n",
    "    for electron in electrons:\n",
    "        # ptcorr and abseta\n",
    "        ptCorr = electron.Pt()*(1.+max(electron.MiniIso()-0.1, 0.))\n",
    "        ptCorr = min(ptCorr, 69.)\n",
    "        absEta = abs(electron.Eta())\n",
    "        fr = h_electron.GetBinContent(h_electron.FindBin(ptCorr, absEta))\n",
    "        fr_up = fr + h_electron.GetBinError(h_electron.FindBin(ptCorr, absEta))\n",
    "        #fr_up = fr*1.3\n",
    "        fr_down = fr - h_electron.GetBinError(h_electron.FindBin(ptCorr, absEta))\n",
    "        if electron.isTight:\n",
    "            n_tightele += 1\n",
    "        else:\n",
    "            w_fake  *= -fr/(1-fr)\n",
    "            w_fake_up *= -fr_up/(1-fr_up)\n",
    "            w_fake_down *= -fr_down/(1-fr_down)\n",
    "    \n",
    "    # event selection\n",
    "    # 2 prompt letpons, 1 fake lepton\n",
    "    n_prompt = 0\n",
    "    n_fake = 0\n",
    "    for muon in muons:\n",
    "        if muon.LepType() < 0:\n",
    "            n_fake += 1\n",
    "        elif muon.LepType() == 1:\n",
    "            n_prompt += 1\n",
    "        else:\n",
    "            pass\n",
    "    for ele in electrons:\n",
    "        if ele.LepType() < 0:\n",
    "            n_fake += 1\n",
    "        elif ele.LepType() == 1:\n",
    "            n_prompt += 1\n",
    "        else:\n",
    "            pass\n",
    "    if not (n_prompt == 2 and n_fake == 1):\n",
    "        continue\n",
    "\n",
    "    weight = evt.genWeight*evt.trigLumi\n",
    "    # observed\n",
    "    if n_tightmu == 2 and n_tightele == 1:\n",
    "        Observed += weight\n",
    "        h_obs.Fill(electrons[0].Pt(), weight)\n",
    "    # expected\n",
    "    else:\n",
    "        Expected += weight*w_fake\n",
    "        Expected_up += weight*w_fake_up\n",
    "        Expected_down += weight*w_fake_down\n",
    "        h_exp.Fill(electrons[0].Pt(), weight*w_fake)\n",
    "        h_exp_up.Fill(electrons[0].Pt(), weight*w_fake_up)\n",
    "        h_exp_down.Fill(electrons[0].Pt(), weight*w_fake_down)"
   ]
  },
  {
   "cell_type": "code",
   "execution_count": 5,
   "metadata": {},
   "outputs": [
    {
     "output_type": "stream",
     "name": "stdout",
     "text": [
      "Observed: 872.8993443645625\nExpected: 809.3098108359135\nExpected Up: 1068.4186796341924\nExpected Down: 591.0415649600312\n"
     ]
    }
   ],
   "source": [
    "print(f\"Observed: {Observed}\")\n",
    "print(f\"Expected: {Expected}\")\n",
    "print(f\"Expected Up: {Expected_up}\")\n",
    "print(f\"Expected Down: {Expected_down}\")"
   ]
  },
  {
   "cell_type": "code",
   "execution_count": 8,
   "metadata": {},
   "outputs": [
    {
     "output_type": "stream",
     "name": "stderr",
     "text": [
      "Warning in <TCanvas::Constructor>: Deleting canvas with same name: cvs\n"
     ]
    },
    {
     "output_type": "display_data",
     "data": {
      "image/png": "[encoded data removed]",
      "text/plain": "<IPython.core.display.Image object>"
     },
     "metadata": {}
    }
   ],
   "source": [
    "cvs = TCanvas(\"cvs\", \"csv\", 600, 600)\n",
    "cvs.cd()\n",
    "h_obs.SetStats(0)\n",
    "h_obs.GetXaxis().SetTitle(\"p_T(e)\")\n",
    "h_obs.GetYaxis().SetTitle(\"Events\")\n",
    "h_obs.GetYaxis().SetRangeUser(0, 30)\n",
    "h_exp.SetLineColor(2)\n",
    "h_exp_up.SetLineColor(3)\n",
    "h_exp_down.SetLineColor(4)\n",
    "h_obs.Draw()\n",
    "h_exp.Draw(\"hist&same\")\n",
    "h_exp_up.Draw(\"hist&same\")\n",
    "h_exp_down.Draw(\"hist&same\")\n",
    "cvs.Draw()"
   ]
  },
  {
   "cell_type": "code",
   "execution_count": null,
   "metadata": {},
   "outputs": [],
   "source": []
  }
 ]
}