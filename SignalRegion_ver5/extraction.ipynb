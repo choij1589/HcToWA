{
 "cells": [],
 "metadata": {
  "orig_nbformat": 4,
  "language_info": {
   "name": "python",
   "version": "3.9.6",
   "mimetype": "text/x-python",
   "codemirror_mode": {
    "name": "ipython",
    "version": 3
   },
   "pygments_lexer": "ipython3",
   "nbconvert_exporter": "python",
   "file_extension": ".py"
  },
  "kernelspec": {
   "name": "python3",
   "display_name": "Python 3.9.6 64-bit (conda)"
  },
  "interpreter": {
   "hash": "da2e8bb8865a0bc8a86a0de3eb19f1fa75363a21fa8fa429cd630896f2163dc2"
  }
 },
 "nbformat": 4,
 "nbformat_minor": 2
}