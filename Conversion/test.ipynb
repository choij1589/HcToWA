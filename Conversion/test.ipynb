{
 "metadata": {
  "language_info": {
   "codemirror_mode": {
    "name": "ipython",
    "version": 3
   },
   "file_extension": ".py",
   "mimetype": "text/x-python",
   "name": "python",
   "nbconvert_exporter": "python",
   "pygments_lexer": "ipython3",
   "version": "3.8.10"
  },
  "orig_nbformat": 2,
  "kernelspec": {
   "name": "python3810jvsc74a57bd04c0e7be8f7cfb5d680101c33ba99bb8932c68c51d696eaf1c983b318108321fd",
   "display_name": "Python 3.8.10 64-bit ('hep': conda)"
  },
  "metadata": {
   "interpreter": {
    "hash": "4c0e7be8f7cfb5d680101c33ba99bb8932c68c51d696eaf1c983b318108321fd"
   }
  }
 },
 "nbformat": 4,
 "nbformat_minor": 2,
 "cells": [
  {
   "cell_type": "code",
   "execution_count": 1,
   "metadata": {},
   "outputs": [
    {
     "output_type": "stream",
     "name": "stdout",
     "text": [
      "Welcome to JupyROOT 6.24/00\n"
     ]
    }
   ],
   "source": [
    "from ROOT import TFile, TH1D\n",
    "from Plotter.PlotterTools.ObsAndExp import ObsAndExp\n",
    "import numpy as np"
   ]
  },
  {
   "cell_type": "code",
   "execution_count": 2,
   "metadata": {},
   "outputs": [],
   "source": [
    "PROMPTs = ['rare', 'ttX', 'VV']\n",
    "histkey = \"muons/1/pt\"\n",
    "SYSTs = [\"Central\", \"FakeUp\", \"FakeDown\", \"ElectronEnUp\", \"ElectronEnDown\", \"ElectronResUp\", \"ElectronResDown\", \"MuonEnUp\", \"MuonEnDown\", \"JetEnUp\", \"JetEnDown\", \"JetResUp\", \"JetResDown\", \"L1PrefireUp\", \"L1PrefireDown\", \"PUReweightUp\", \"PUReweightDown\"]"
   ]
  },
  {
   "cell_type": "code",
   "execution_count": 3,
   "metadata": {},
   "outputs": [],
   "source": [
    "def get_hist(sample, histkey, meas, channel, syst=\"Central\"):\n",
    "    if sample == \"fake\":\n",
    "        f = TFile.Open(f\"Outputs/{meas}/{channel}/DATA.root\")\n",
    "    else:\n",
    "        f = TFile.Open(f\"Outputs/{meas}/{channel}/{sample}.root\")\n",
    "    h = f.Get(f\"{sample}/{syst}/{histkey}\")\n",
    "    h.SetDirectory(0)\n",
    "\n",
    "    return h"
   ]
  },
  {
   "cell_type": "code",
   "execution_count": 9,
   "metadata": {},
   "outputs": [],
   "source": [
    "def get_sf(meas, channel, syst=\"Central\"):\n",
    "    histkey = \"ZMass\"\n",
    "\n",
    "    # get data hist\n",
    "    h_data = TH1D()\n",
    "    if syst in [\"Central\", \"ElectronEnUp\", \"ElectronEnDown\", \"ElectronResUp\", \"ElectronResDown\", \"MuonEnUp\", \"MuonEnDown\", \"JetEnUp\", \"JetEnDown\", \"JetResUp\", \"JetResDown\"]:\n",
    "        h_data = get_hist(\"DATA\", histkey, meas, channel, syst)\n",
    "    else:\n",
    "        h_data = get_hist(\"DATA\", histkey, meas, channel)\n",
    "    evts_data = h_data.Integral()\n",
    "\n",
    "    evts_bkg = 0.\n",
    "\n",
    "    # get fake hist\n",
    "    h_fake = TH1D()\n",
    "    if syst == \"FakeUp\":\n",
    "        h_fake = get_hist(\"fake\", histkey, meas, channel, syst=\"Up\")\n",
    "    elif syst == \"FakeDown\":\n",
    "        h_fake = get_hist(\"fake\", histkey, meas, channel, syst=\"Down\")\n",
    "    else:\n",
    "        h_fake = get_hist(\"fake\", histkey, meas, channel)\n",
    "    evts_bkg += h_fake.Integral()\n",
    "\n",
    "    # get mc\n",
    "    for mc in PROMPTs:\n",
    "        h = TH1D()\n",
    "        if syst in [\"Central\", \"FakeUp\", \"FakeDown\"]:\n",
    "            h = get_hist(mc, histkey, meas, channel)\n",
    "        else:\n",
    "            h = get_hist(mc, histkey, meas, channel, syst)\n",
    "        evts_bkg += h.Integral()\n",
    "\n",
    "    # conv\n",
    "    h_conv = TH1D()\n",
    "    if syst in [\"Central\", \"FakeUp\", \"FakeDown\"]:\n",
    "        h_conv = get_hist(meas, histkey, meas, channel)\n",
    "    else:\n",
    "        h_conv = get_hist(meas, histkey, meas, channel, syst)\n",
    "    \n",
    "    sf = (evts_data - evts_bkg) / h_conv.Integral()\n",
    "    \n",
    "    return sf\n",
    "\n"
   ]
  },
  {
   "cell_type": "code",
   "execution_count": 10,
   "metadata": {},
   "outputs": [
    {
     "output_type": "stream",
     "name": "stdout",
     "text": [
      "1.1190094708068306\ntotal err: 0.5633136484442929\n"
     ]
    }
   ],
   "source": [
    "total_err = 0.\n",
    "sf_central = get_sf(\"DY\", \"1E2Mu\", \"Central\")\n",
    "print(sf_central)\n",
    "for syst in SYSTs:\n",
    "    #print(f\"{syst}: {get_sf(\"DY\", \"1E2Mu\", syst)}\")\n",
    "    sf = get_sf(\"DY\", \"1E2Mu\", syst)\n",
    "    total_err += np.power(sf_central - sf, 2)\n",
    "total_err = np.sqrt(total_err)\n",
    "print(f\"total err: {total_err}\")"
   ]
  },
  {
   "cell_type": "code",
   "execution_count": 100,
   "metadata": {},
   "outputs": [],
   "source": [
    "# get data\n",
    "h_data = get_hist(\"DATA\", histkey)\n",
    "\n",
    "# estimate systematics for fake\n",
    "h_fakes = dict()\n",
    "h_fakes[\"Central\"] = get_hist(\"fake\", histkey, syst=\"Central\")\n",
    "h_fakes[\"Up\"] = get_hist(\"fake\", histkey, syst=\"Up\")\n",
    "h_fakes[\"Down\"] = get_hist(\"fake\", histkey, syst=\"Down\")\n",
    "\n",
    "h_fake = h_fakes[\"Central\"].Clone(\"h_fake\")\n",
    "h_fake.SetDirectory(0)\n",
    "#bins = h_fake.GetMaximumBin()\n",
    "bins = h_fake.GetNbinsX()\n",
    "for bin in range(bins+1):\n",
    "    center = h_fake.GetBinContent(bin)\n",
    "    upper = h_fakes[\"Up\"].GetBinContent(bin) - center\n",
    "    lower = center - h_fakes[\"Down\"].GetBinContent(bin)\n",
    "    gm = pow(pow(upper, 2) + pow(lower, 2), 0.5)\n",
    "    h_fake.SetBinError(bin, gm)\n",
    "\n",
    "hists = dict()\n",
    "hists['fake'] = get_hist(\"fake\", histkey, syst=\"Central\")\n",
    "\n",
    "for mc in PROMPTs + [\"DY\"]:\n",
    "    h = get_hist(mc, histkey, syst)\n",
    "    h.SetDirectory(0)\n",
    "    hists[mc] = h"
   ]
  },
  {
   "cell_type": "code",
   "execution_count": 102,
   "metadata": {},
   "outputs": [],
   "source": [
    "# set conv error\n",
    "h = hists['DY'].Clone(\"temp\")\n",
    "hists['DY'].Scale(sf_central)\n",
    "bins = h.GetNbinsX()\n",
    "for bin in range(bins+1):\n",
    "    center = h.GetBinContent(bin) * sf_central\n",
    "    upper = h.GetBinContent(bin)*(sf_central + total_err) - center\n",
    "    lower = center - h.GetBinContent(bin)*(sf_central - total_err)\n",
    "    err = np.sqrt(np.power(upper, 2) + np.power(lower, 2))\n",
    "    hists['DY'].SetBinError(bin, err)"
   ]
  },
  {
   "cell_type": "code",
   "execution_count": 103,
   "metadata": {},
   "outputs": [],
   "source": [
    "cvs_params = {\n",
    "    \"logy\": False,\n",
    "    \"grid\": False\n",
    "}\n",
    "info_params = {\n",
    "    \"info\": \"L_{int} = 41.9 fb^{-1}\",\n",
    "    \"cms_text\": \"CMS\",\n",
    "    \"extra_text\": \"Work in progress\"\n",
    "}\n",
    "hist_params = {\n",
    "    \"x_title\": \"P_{T}(e)\",\n",
    "    \"x_range\": [0, 120],\n",
    "    \"y_title\": \"Events\",\n",
    "    \"rebin\": 5,\n",
    "    \"ratio_range\": [0., 2.0]\n",
    "}"
   ]
  },
  {
   "cell_type": "code",
   "execution_count": 104,
   "metadata": {},
   "outputs": [
    {
     "output_type": "stream",
     "name": "stdout",
     "text": [
      "INFO: Storing histograms...\n",
      "INFO: y axis range set to be maximum of data plot\n",
      "Warning in <TCanvas::Constructor>: Deleting canvas with same name: cvs\n"
     ]
    },
    {
     "output_type": "display_data",
     "data": {
      "image/png": "[encoded data removed]",
      "text/plain": "<IPython.core.display.Image object>"
     },
     "metadata": {}
    }
   ],
   "source": [
    "plotter = ObsAndExp(cvs_params, hist_params, info_params)\n",
    "plotter.get_hists(h_data, hists)\n",
    "plotter.combine()\n",
    "plotter.draw()"
   ]
  },
  {
   "cell_type": "code",
   "execution_count": null,
   "metadata": {},
   "outputs": [],
   "source": []
  }
 ]
}