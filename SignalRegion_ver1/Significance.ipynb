{
 "cells": [
  {
   "cell_type": "code",
   "execution_count": 10,
   "metadata": {},
   "outputs": [
    {
     "name": "stdout",
     "output_type": "stream",
     "text": [
      "Welcome to JupyROOT 6.24/00\n"
     ]
    }
   ],
   "source": [
    "from ROOT import TFile, TCanvas\n",
    "import numpy as np\n",
    "from Conversion.measConvSF import get_conv_sf"
   ]
  },
  {
   "cell_type": "code",
   "execution_count": 11,
   "metadata": {},
   "outputs": [],
   "source": [
    "def get_hist(sample, histkey, channel, mass_point, syst=\"Central\"):\n",
    "    if sample == \"fake\":\n",
    "        fkey = f\"Outputs/{channel}/{mass_point}/DATA.root\"\n",
    "    else:\n",
    "        fkey = f\"Outputs/{channel}/{mass_point}/{sample}.root\"\n",
    "    histkey = f\"{sample}/SR/{syst}/{histkey}\"\n",
    "    \n",
    "    f = TFile.Open(fkey)\n",
    "    h = f.Get(histkey)\n",
    "    h.SetDirectory(0)\n",
    "    f.Close()\n",
    "\n",
    "    return h"
   ]
  },
  {
   "cell_type": "code",
   "execution_count": 51,
   "metadata": {},
   "outputs": [
    {
     "name": "stdout",
     "output_type": "stream",
     "text": [
      "Central: 1.1190094708068306\n",
      "FakeUp: 0.6677157832438896\n",
      "FakeDown: 1.4537034361468517\n",
      "ElectronEnUp: 1.1190060036708764\n",
      "ElectronEnDown: 1.1216176338409654\n",
      "ElectronResUp: 1.1190232215074827\n",
      "ElectronResDown: 1.118986644012267\n",
      "MuonEnUp: 1.120322206037186\n",
      "MuonEnDown: 1.121469556536051\n",
      "JetEnUp: 1.1190094708068306\n",
      "JetEnDown: 1.1190094708068306\n",
      "JetResUp: 1.1190094708068306\n",
      "JetResDown: 1.1190094708068306\n",
      "L1PrefireUp: 1.1201077646119517\n",
      "L1PrefireDown: 1.117954700609355\n",
      "PUReweightUp: 1.146886589846604\n",
      "PUReweightDown: 1.089988916593168\n",
      "Central: 0.8786757841662644\n",
      "FakeUp: 0.7162359352275003\n",
      "FakeDown: 1.013538513808059\n",
      "ElectronEnUp: 0.8806682884990165\n",
      "ElectronEnDown: 0.8718040770869341\n",
      "ElectronResUp: 0.8786577807673038\n",
      "ElectronResDown: 0.8786754993782707\n",
      "MuonEnUp: 0.883154557892486\n",
      "MuonEnDown: 0.8767809067677473\n",
      "JetEnUp: 0.8786757841662644\n",
      "JetEnDown: 0.8786757841662644\n",
      "JetResUp: 0.8786757841662644\n",
      "JetResDown: 0.8786757841662644\n",
      "L1PrefireUp: 0.880674071289433\n",
      "L1PrefireDown: 0.8767044524657159\n",
      "PUReweightUp: 0.9056847757495976\n",
      "PUReweightDown: 0.8559033234697111\n"
     ]
    },
    {
     "name": "stderr",
     "output_type": "stream",
     "text": [
      "Warning in <TCanvas::Constructor>: Deleting canvas with same name: cvs\n"
     ]
    },
    {
     "data": {
      "image/png": "[encoded data removed]",
      "text/plain": [
       "<IPython.core.display.Image object>"
      ]
     },
     "metadata": {},
     "output_type": "display_data"
    }
   ],
   "source": [
    "histkey = 'mA_score'\n",
    "channel = '1E2Mu'\n",
    "\n",
    "mass_point = 'MHc130_MA90'\n",
    "signal = f\"TTToHcToWA_AToMuMu_{mass_point}\"\n",
    "prompts = ['rare', 'ttX', 'VV']\n",
    "\n",
    "h_signal = get_hist(signal, histkey, channel, mass_point)\n",
    "h_signal.SetStats(0)\n",
    "\n",
    "h_fake = get_hist('fake', histkey, channel, mass_point)\n",
    "h_DY = get_hist(\"DY\", histkey, channel, mass_point)\n",
    "DY_sf, DY_err = get_conv_sf(channel, 'DY')\n",
    "h_DY.Scale(DY_sf)\n",
    "h_ZG = get_hist(\"ZG\", histkey, channel, mass_point)\n",
    "ZG_sf, ZG_err = get_conv_sf(channel, 'ZG')\n",
    "h_ZG.Scale(ZG_sf)\n",
    "h_conv = h_DY.Clone('conv')\n",
    "h_conv.Add(h_ZG)\n",
    "h_ttX = get_hist('ttX', histkey, channel, mass_point)\n",
    "h_rare = get_hist('rare', histkey, channel, mass_point)\n",
    "h_VV = get_hist('VV', histkey, channel, mass_point)\n",
    "\n",
    "h_bkg = h_fake.Clone(\"bkg\")\n",
    "h_bkg.Add(h_conv)\n",
    "h_bkg.Add(h_ttX)\n",
    "h_bkg.Add(h_rare)\n",
    "h_bkg.Add(h_VV)\n",
    "h_bkg.SetStats(0)\n",
    "\n",
    "cvs = TCanvas(\"cvs\", \"\", 800, 600)\n",
    "cvs.cd()\n",
    "h_signal.Draw(\"colz\")\n",
    "cvs.Draw()"
   ]
  },
  {
   "cell_type": "code",
   "execution_count": 52,
   "metadata": {},
   "outputs": [
    {
     "name": "stdout",
     "output_type": "stream",
     "text": [
      "6.583217472572693 88.4 91.6 77.52119694692804 138.66425908404702\n",
      "6.583217472572693 0.0 77.52119694692804 138.66425908404702\n",
      "9.967958635221416 87.8 92.2 0.9 61.17346216171387 37.66289215601676\n"
     ]
    },
    {
     "name": "stderr",
     "output_type": "stream",
     "text": [
      "<ipython-input-52-d1a2f1e74b5c>:66: RuntimeWarning: divide by zero encountered in double_scalars\n",
      "  sign= N_sig / np.sqrt(N_bkg)\n"
     ]
    }
   ],
   "source": [
    "import numpy as np\n",
    "\n",
    "mA = 90\n",
    "s_start = 0.5\n",
    "m_steps = np.linspace(0., 5., 51)\n",
    "s_steps = np.linspace(0., 0.5, 51)\n",
    "\n",
    "# estimate with mA only\n",
    "sign_max = 0.\n",
    "mA_min = 0.\n",
    "mA_max = 0.\n",
    "s_max = 0.\n",
    "N_sig_max = 0.\n",
    "N_bkg_max = 0. \n",
    "for step in m_steps:\n",
    "    mA_left = h_signal.GetXaxis().FindBin(mA - step)\n",
    "    mA_right = h_signal.GetXaxis().FindBin(mA + step)\n",
    "    score_left = h_signal.GetYaxis().FindBin(0.)\n",
    "    score_right = h_signal.GetYaxis().FindBin(1.1)\n",
    "    \n",
    "    N_sig = h_signal.Integral(mA_left, mA_right, score_left, score_right)\n",
    "    N_bkg= h_bkg.Integral(mA_left, mA_right, score_left, score_right)\n",
    "    \n",
    "    # update significance\n",
    "    sign= N_sig / np.sqrt(N_bkg)\n",
    "    \n",
    "    if sign_max < sign:\n",
    "        sign_max = sign \n",
    "        mA_min = mA - step\n",
    "        mA_max = mA + step\n",
    "        N_sig_max = N_sig\n",
    "        N_bkg_max = N_bkg  \n",
    "\n",
    "print(sign_max, mA_min, mA_max, N_sig_max, N_bkg_max)\n",
    "\n",
    "for s_step in s_steps:\n",
    "    mA_left = h_signal.GetXaxis().FindBin(0.)\n",
    "    mA_right = h_signal.GetXaxis().FindBin(300.)\n",
    "    score_left = h_signal.GetYaxis().FindBin(s_start + s_step)\n",
    "    score_right = h_signal.GetYaxis().FindBin(1.1)\n",
    "        \n",
    "    N_sig = h_signal.Integral(mA_left, mA_right, score_left, score_right)\n",
    "    N_bkg= h_bkg.Integral(mA_left, mA_right, score_left, score_right)\n",
    "    \n",
    "    # update significance\n",
    "    sign= N_sig / np.sqrt(N_bkg)\n",
    "    \n",
    "    if sign_max < sign and sign != np.inf:\n",
    "        sign_max = sign \n",
    "        s_max = s_start + s_step\n",
    "        N_sig_max = N_sig\n",
    "        N_bkg_max = N_bkg\n",
    "print(sign_max, s_max, N_sig_max, N_bkg_max)\n",
    "\n",
    "for m_step in m_steps:\n",
    "    for s_step in s_steps:\n",
    "        mA_left = h_signal.GetXaxis().FindBin(mA - m_step)\n",
    "        mA_right = h_signal.GetXaxis().FindBin(mA + m_step)\n",
    "        score_left = h_signal.GetYaxis().FindBin(s_start + s_step)\n",
    "        score_right = h_signal.GetYaxis().FindBin(1.1)\n",
    "        \n",
    "        N_sig = h_signal.Integral(mA_left, mA_right, score_left, score_right)\n",
    "        N_bkg= h_bkg.Integral(mA_left, mA_right, score_left, score_right)\n",
    "    \n",
    "        # update significance\n",
    "        sign= N_sig / np.sqrt(N_bkg)\n",
    "    \n",
    "        if sign_max < sign and sign != np.inf:\n",
    "            sign_max = sign \n",
    "            mA_min = mA - m_step\n",
    "            mA_max = mA + m_step\n",
    "            s_max = s_start + s_step\n",
    "            N_sig_max = N_sig\n",
    "            N_bkg_max = N_bkg\n",
    "             \n",
    "print(sign_max, mA_min, mA_max, s_max, N_sig_max, N_bkg_max)\n",
    "    "
   ]
  },
  {
   "cell_type": "code",
   "execution_count": null,
   "metadata": {},
   "outputs": [],
   "source": []
  }
 ],
 "metadata": {
  "interpreter": {
   "hash": "4bdc6f543d21430f19fdc68f48a348338922fbb620c2c2e274fc8ce374f8d71d"
  },
  "kernelspec": {
   "display_name": "Python 3.8.8 64-bit ('torch': conda)",
   "name": "python3"
  },
  "language_info": {
   "codemirror_mode": {
    "name": "ipython",
    "version": 3
   },
   "file_extension": ".py",
   "mimetype": "text/x-python",
   "name": "python",
   "nbconvert_exporter": "python",
   "pygments_lexer": "ipython3",
   "version": "3.8.8"
  },
  "orig_nbformat": 4
 },
 "nbformat": 4,
 "nbformat_minor": 2
}